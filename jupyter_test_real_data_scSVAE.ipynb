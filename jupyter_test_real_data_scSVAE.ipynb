{
 "cells": [
  {
   "cell_type": "code",
   "execution_count": 1,
   "id": "2a6e6b52",
   "metadata": {},
   "outputs": [
    {
     "name": "stderr",
     "output_type": "stream",
     "text": [
      "OMP: Info #276: omp_set_nested routine deprecated, please use omp_set_max_active_levels instead.\n"
     ]
    }
   ],
   "source": [
    "import scanpy as sc\n",
    "import sys\n",
    "sys.path.append(\"/corgi/debojyoti\") \n",
    "import scSVAE\n",
    "\n",
    "import math\n",
    "import anndata\n",
    "\n",
    "import torch\n",
    "\n",
    "%matplotlib inline\n",
    "import matplotlib.pyplot as plt\n",
    "plt.style.use('seaborn-whitegrid')\n",
    "import numpy as np\n",
    "\n",
    "import pandas as pd"
   ]
  },
  {
   "cell_type": "code",
   "execution_count": 2,
   "id": "c74b7b76-55d4-44e6-8f97-013f692e5e3c",
   "metadata": {},
   "outputs": [],
   "source": [
    "import matplotlib.colors\n",
    "\n",
    "cmap_cellcycle = matplotlib.colors.LinearSegmentedColormap.from_list(\n",
    "    \"cellcycle\", [\"yellow\", \"green\", \"magenta\", \"yellow\"], N=128) "
   ]
  },
  {
   "cell_type": "code",
   "execution_count": 3,
   "id": "8d08c2c3-44c3-4434-880d-8b4427d48920",
   "metadata": {},
   "outputs": [
    {
     "name": "stdout",
     "output_type": "stream",
     "text": [
      "93\n",
      "['GMNN', 'RAD51', 'CDCA7', 'PRIM1', 'SLBP']\n"
     ]
    }
   ],
   "source": [
    "#cell cycle genes\n",
    "cc_mouse = pd.read_csv(\"/corgi/cellbuster/py/cc_mouse.csv\")\n",
    "cc_mouse = cc_mouse.iloc[:,1:]\n",
    "cc_mouse.head()\n",
    "cell_cycle_genes = [g.upper() for g in cc_mouse[\"symbol\"].tolist()]\n",
    "print(len(cell_cycle_genes))\n",
    "print(cell_cycle_genes[:5])"
   ]
  },
  {
   "cell_type": "code",
   "execution_count": 4,
   "id": "c4029f3a",
   "metadata": {},
   "outputs": [],
   "source": [
    "if True:\n",
    "    ### Real data\n",
    "    adata = sc.read(\"../scellgen2/data/small_rna.h5ad\")\n",
    "else:\n",
    "    ### Create artificial data to fit\n",
    "    num_cell = 1000\n",
    "\n",
    "    gene1 = [np.random.poisson(int(abs(100*math.sin(float(v)*2*math.pi/num_cell)))) for v in range(0,num_cell)]\n",
    "    gene2 = [np.random.poisson(int(abs(100*math.cos(float(v)*2*math.pi/num_cell)))) for v in range(0,num_cell)]\n",
    "    gene3 = [np.random.poisson(int(abs(100*math.sin(float(v)*math.pi/num_cell)))) for v in range(0,num_cell)]\n",
    "    gene4 = [np.random.poisson(int(abs(1+0*math.cos(float(v)*math.pi/num_cell)))) for v in range(0,num_cell)]\n",
    "\n",
    "    X=[gene1,gene2,gene3,gene4]\n",
    "    adata=anndata.AnnData(np.array(X).T)\n",
    "\n",
    "    plt.plot(gene1)"
   ]
  },
  {
   "cell_type": "code",
   "execution_count": 5,
   "id": "785ead54",
   "metadata": {},
   "outputs": [
    {
     "data": {
      "text/plain": [
       "AnnData object with n_obs × n_vars = 25109 × 1863\n",
       "    obs: 'batchname', 'cellbc', 'batch', 'sample_name', 'gc_zone', 'facs_genes', 'method', 'donor', '10xversion', 'trust4_celltype', 'batchnew', 'n_genes', 'n_genes_by_counts', 'total_counts', 'total_counts_mt', 'pct_counts_mt', 'S_score', 'G2M_score', 'phase', 'cellcycle', 'leiden'\n",
       "    var: 'gene_ids', 'feature_types', 'genome'"
      ]
     },
     "execution_count": 5,
     "metadata": {},
     "output_type": "execute_result"
    }
   ],
   "source": [
    "adata"
   ]
  },
  {
   "cell_type": "code",
   "execution_count": 6,
   "id": "c871a9b0-00cc-4ba5-9be8-5a40cf5ea8c1",
   "metadata": {},
   "outputs": [],
   "source": [
    "# sc.pp.subsample(adata, fraction=0.1)"
   ]
  },
  {
   "cell_type": "code",
   "execution_count": 7,
   "id": "22dff668-7a88-4642-a2ae-2543696c001a",
   "metadata": {},
   "outputs": [],
   "source": [
    "# adata"
   ]
  },
  {
   "cell_type": "code",
   "execution_count": 8,
   "id": "4c1e0096-fd7b-4629-90be-d37052c2a4d5",
   "metadata": {},
   "outputs": [],
   "source": [
    "sc.pp.filter_genes(adata, min_counts=3)"
   ]
  },
  {
   "cell_type": "code",
   "execution_count": 9,
   "id": "e632ff4b",
   "metadata": {},
   "outputs": [],
   "source": [
    "adata.layers[\"counts\"] = adata.X.copy() # preserve counts\n",
    "sc.pp.normalize_total(adata, target_sum=1e4)\n",
    "sc.pp.log1p(adata)\n",
    "adata.raw = adata # freeze the state in `.raw`"
   ]
  },
  {
   "cell_type": "code",
   "execution_count": 10,
   "id": "dac41f66",
   "metadata": {},
   "outputs": [],
   "source": [
    "sc.pp.highly_variable_genes(\n",
    "    adata,\n",
    "    n_top_genes=1200,\n",
    "    subset=True,\n",
    "    layer=\"counts\",\n",
    "    flavor=\"seurat_v3\"\n",
    ")"
   ]
  },
  {
   "cell_type": "markdown",
   "id": "44869ec5-77b2-47c8-a236-fdaa5534cb9d",
   "metadata": {},
   "source": [
    "## Restrict to cell cycle genes"
   ]
  },
  {
   "cell_type": "code",
   "execution_count": 11,
   "id": "07cdb464-8236-476d-84fd-e260dd70883d",
   "metadata": {
    "tags": []
   },
   "outputs": [
    {
     "data": {
      "text/plain": [
       "View of AnnData object with n_obs × n_vars = 25109 × 87\n",
       "    obs: 'batchname', 'cellbc', 'batch', 'sample_name', 'gc_zone', 'facs_genes', 'method', 'donor', '10xversion', 'trust4_celltype', 'batchnew', 'n_genes', 'n_genes_by_counts', 'total_counts', 'total_counts_mt', 'pct_counts_mt', 'S_score', 'G2M_score', 'phase', 'cellcycle', 'leiden'\n",
       "    var: 'gene_ids', 'feature_types', 'genome', 'n_counts', 'highly_variable', 'highly_variable_rank', 'means', 'variances', 'variances_norm'\n",
       "    uns: 'log1p', 'hvg'\n",
       "    layers: 'counts'"
      ]
     },
     "execution_count": 11,
     "metadata": {},
     "output_type": "execute_result"
    }
   ],
   "source": [
    "adata.var[\"highly_variable\"] = [True if g in cell_cycle_genes else False for g in adata.var.index.tolist()]\n",
    "adata = adata[:,adata.var[\"highly_variable\"]]\n",
    "adata"
   ]
  },
  {
   "cell_type": "code",
   "execution_count": 12,
   "id": "98f2f729-a5ca-48e0-a9e9-6fda3301803b",
   "metadata": {},
   "outputs": [],
   "source": [
    "adata = adata.copy()"
   ]
  },
  {
   "cell_type": "code",
   "execution_count": 13,
   "id": "c5d55474-51bb-432d-bb18-f8ac30bddf5e",
   "metadata": {},
   "outputs": [
    {
     "name": "stdout",
     "output_type": "stream",
     "text": [
      "\u001b[34mINFO    \u001b[0m Using batches from adata.obs\u001b[1m[\u001b[0m\u001b[32m\"10xversion\"\u001b[0m\u001b[1m]\u001b[0m                                          \n",
      "\u001b[34mINFO    \u001b[0m No label_key inputted, assuming all cells have same label                           \n",
      "\u001b[34mINFO    \u001b[0m Using data from adata.layers\u001b[1m[\u001b[0m\u001b[32m\"counts\"\u001b[0m\u001b[1m]\u001b[0m                                              \n",
      "\u001b[34mINFO    \u001b[0m Computing library size prior per batch                                              \n",
      "\u001b[34mINFO    \u001b[0m Successfully registered anndata object containing \u001b[1;36m25109\u001b[0m cells, \u001b[1;36m87\u001b[0m vars, \u001b[1;36m1\u001b[0m batches, \u001b[1;36m1\u001b[0m\n",
      "         labels, and \u001b[1;36m0\u001b[0m proteins. Also registered \u001b[1;36m0\u001b[0m extra categorical covariates and \u001b[1;36m0\u001b[0m extra  \n",
      "         continuous covariates.                                                              \n",
      "\u001b[34mINFO    \u001b[0m Please do not further modify adata until model is trained.                          \n"
     ]
    },
    {
     "name": "stderr",
     "output_type": "stream",
     "text": [
      "/home/pcddas/miniconda3/envs/scvi-env/lib/python3.7/site-packages/scvi/data/_utils.py:23: UserWarning: This dataset has some empty cells, this might fail inference.Data should be filtered with `scanpy.pp.filter_cells()`\n",
      "  \"This dataset has some empty cells, this might fail inference.\"\n"
     ]
    }
   ],
   "source": [
    "scSVAE.data.setup_anndata(\n",
    "    adata,\n",
    "    layer=\"counts\",\n",
    "    batch_key = \"10xversion\",\n",
    ")"
   ]
  },
  {
   "cell_type": "code",
   "execution_count": 14,
   "id": "2f9215c1-8390-40fe-b814-0ecad8436c1a",
   "metadata": {},
   "outputs": [],
   "source": [
    "model = scSVAE.model.scSVAE(adata, n_latent = 2)"
   ]
  },
  {
   "cell_type": "code",
   "execution_count": null,
   "id": "f54e933d-495a-42e9-a95f-fdd1644d8230",
   "metadata": {},
   "outputs": [],
   "source": []
  },
  {
   "cell_type": "code",
   "execution_count": null,
   "id": "734abca6-2ee3-448a-b7f6-5ee6d1c50a76",
   "metadata": {},
   "outputs": [],
   "source": []
  },
  {
   "cell_type": "code",
   "execution_count": null,
   "id": "3630ef66-6cfa-441d-bff3-648d4e25b6d7",
   "metadata": {},
   "outputs": [
    {
     "name": "stderr",
     "output_type": "stream",
     "text": [
      "GPU available: True, used: True\n",
      "TPU available: False, using: 0 TPU cores\n",
      "LOCAL_RANK: 0 - CUDA_VISIBLE_DEVICES: [0]\n"
     ]
    },
    {
     "name": "stdout",
     "output_type": "stream",
     "text": [
      "Epoch 1/319:   0%|                                                                                                           | 0/319 [00:00<?, ?it/s]"
     ]
    },
    {
     "name": "stderr",
     "output_type": "stream",
     "text": [
      "/home/pcddas/miniconda3/envs/scvi-env/lib/python3.7/site-packages/torch/distributions/distribution.py:46: UserWarning: <class 'hyperspherical_vae.distributions.hyperspherical_uniform.HypersphericalUniform'> does not define `arg_constraints`. Please set `arg_constraints = {}` or initialize the distribution with `validate_args=False` to turn off validation.\n",
      "  'with `validate_args=False` to turn off validation.')\n"
     ]
    },
    {
     "name": "stdout",
     "output_type": "stream",
     "text": [
      "Epoch 315/319:  98%|█████████████████████████████████████████████████████████████████████████▊ | 314/319 [30:20<00:28,  5.65s/it, loss=46.9, v_num=1]"
     ]
    }
   ],
   "source": [
    "model.train()"
   ]
  },
  {
   "cell_type": "code",
   "execution_count": null,
   "id": "8f9543e2-4ad0-4563-a33e-eb37cbb7f366",
   "metadata": {},
   "outputs": [],
   "source": [
    "# model.history.keys()"
   ]
  },
  {
   "cell_type": "code",
   "execution_count": null,
   "id": "292f8016-4756-4c1a-889b-75b0a721cad4",
   "metadata": {},
   "outputs": [],
   "source": [
    "model.get_reconstruction_error()"
   ]
  },
  {
   "cell_type": "code",
   "execution_count": null,
   "id": "41c0cf3a-c463-44c9-b429-9769f11d0a2e",
   "metadata": {},
   "outputs": [],
   "source": [
    "plt.figure(figsize=(12,12))\n",
    "for i, loss in enumerate(model.history.keys()):\n",
    "    plt.subplot(3, 2,i+1)\n",
    "    df = model.history[loss]\n",
    "    plt.plot(df.iloc[:,0].values)\n",
    "    plt.title(df.columns.tolist()[0])"
   ]
  },
  {
   "cell_type": "code",
   "execution_count": null,
   "id": "a6938d9d-71c2-4031-830d-aa4a100acd45",
   "metadata": {},
   "outputs": [],
   "source": [
    "latent = model.get_latent_representation()\n",
    "adata.obsm[\"X_scSVAE\"] = latent"
   ]
  },
  {
   "cell_type": "code",
   "execution_count": null,
   "id": "20ea2aea-942e-4a9d-88ed-7c693ca8b7d5",
   "metadata": {},
   "outputs": [],
   "source": [
    "adata.obsm[\"X_pca\"] = latent"
   ]
  },
  {
   "cell_type": "code",
   "execution_count": null,
   "id": "e2483b03-34f2-4f5a-98e1-a8c85d15915e",
   "metadata": {},
   "outputs": [],
   "source": [
    "sc.pl.pca(adata, color = [\"cellcycle\", \"donor\", \"gc_zone\"])"
   ]
  },
  {
   "cell_type": "markdown",
   "id": "9730e928-239d-45fe-912e-82b23c3a096f",
   "metadata": {},
   "source": [
    "## Actual UMAP with PCA co-ordinates"
   ]
  },
  {
   "cell_type": "code",
   "execution_count": null,
   "id": "7fbdc319-fe7b-411c-afe0-b978c2ebb8e1",
   "metadata": {
    "tags": []
   },
   "outputs": [],
   "source": [
    "sc.tl.pca(adata)\n",
    "sc.pp.neighbors(adata)\n",
    "sc.tl.leiden(adata)\n",
    "sc.tl.umap(adata)"
   ]
  },
  {
   "cell_type": "code",
   "execution_count": null,
   "id": "2d877fdc-7351-4dbc-93f4-e2e6ef4e5539",
   "metadata": {},
   "outputs": [],
   "source": [
    "sc.pl.umap(adata, color = [\"donor\", \"cellcycle\", \"leiden\"], size=120)"
   ]
  },
  {
   "cell_type": "markdown",
   "id": "ed19a17f-f9a9-4048-95ed-c5d89a045eb3",
   "metadata": {},
   "source": [
    "## Elbow for PCA"
   ]
  },
  {
   "cell_type": "code",
   "execution_count": null,
   "id": "dc34357f-c66d-4efb-ab36-96bcecf1e25d",
   "metadata": {},
   "outputs": [],
   "source": [
    "# sc.pl.pca_variance_ratio(adata)"
   ]
  },
  {
   "cell_type": "markdown",
   "id": "0daf6fa0-a025-46ef-8a96-a6808ceb93ca",
   "metadata": {},
   "source": [
    "## distribution of latent space"
   ]
  },
  {
   "cell_type": "code",
   "execution_count": null,
   "id": "3fd9e857-fc62-463b-a0c8-0519bc354fed",
   "metadata": {},
   "outputs": [],
   "source": [
    "plt.figure(figsize=(10,8))\n",
    "plt.suptitle(\"latent-space in scsvae\")\n",
    "plt.subplot(121)\n",
    "plt.hist(latent[:,0], bins =100)\n",
    "plt.subplot(122)\n",
    "plt.hist(latent[:,1], bins =100)\n",
    "plt.show()"
   ]
  },
  {
   "cell_type": "code",
   "execution_count": null,
   "id": "e9af039c-e7b8-49ba-a53c-e59546e7b4d6",
   "metadata": {},
   "outputs": [],
   "source": [
    "r, theta = model.module.get_polar(adata.obsm[\"X_scSVAE\"][:,0], adata.obsm[\"X_scSVAE\"][:,1])"
   ]
  },
  {
   "cell_type": "code",
   "execution_count": null,
   "id": "d68bcb31-27b5-4aa0-a22d-9943dd6b533d",
   "metadata": {},
   "outputs": [],
   "source": [
    "adata.obs[\"theta\"] = theta"
   ]
  },
  {
   "cell_type": "code",
   "execution_count": null,
   "id": "d487920f-8d87-4951-9169-cd654b8dd3a9",
   "metadata": {},
   "outputs": [],
   "source": [
    "plt.rcParams['axes.facecolor']='white'\n",
    "plt.rcParams['savefig.facecolor']='white'\n",
    "plt.rcParams['axes.edgecolor']='black'\n",
    "plt.rcParams['savefig.edgecolor']='black'\n",
    "plt.rcParams['legend.fontsize']='28'\n",
    "\n",
    "cmap_cellcycle = matplotlib.colors.LinearSegmentedColormap.from_list(\n",
    "    \"cellcycle\", [\"yellow\", \"green\", \"magenta\", \"yellow\"], N=128)\n",
    "sc.pl.umap(adata,color=[\"theta\", \"cellcycle\", \"gc_zone\", \"leiden\"], \n",
    "           color_map=cmap_cellcycle, ncols=2, size=120)"
   ]
  },
  {
   "cell_type": "code",
   "execution_count": null,
   "id": "c33b4239-2216-4495-afa9-235c1ed2f440",
   "metadata": {},
   "outputs": [],
   "source": [
    "model.module.gene_heatmap(adata, theta, cell_cycle_genes)"
   ]
  },
  {
   "cell_type": "code",
   "execution_count": null,
   "id": "fae3b89a-7d46-45e1-bd81-a879011d8a38",
   "metadata": {},
   "outputs": [],
   "source": [
    "# import seaborn as sns\n",
    "# import seaborn as sns; sns.set_theme()\n",
    "# import scipy.stats as ss\n",
    "# import pandas as pd\n",
    "# import matplotlib.pyplot as plt"
   ]
  },
  {
   "cell_type": "code",
   "execution_count": null,
   "id": "d5fb8a89-c5c7-45ab-bb96-1a281efa6921",
   "metadata": {},
   "outputs": [],
   "source": [
    "# def gene_heatmap(adata, theta, genelist):\n",
    "    \n",
    "#     plotdata = pd.DataFrame({\"theta\": theta})    \n",
    "#     expression_data = adata.X.todense()\n",
    "\n",
    "#     for gene in genelist:\n",
    "#         ind = [i for i,v in enumerate(adata.var.index.tolist()) if v == gene]\n",
    "#         if ind:\n",
    "\n",
    "#             expression = expression_data[:,ind[0]]\n",
    "\n",
    "#             plotdata[gene] = expression\n",
    "\n",
    "\n",
    "#     plotdata[\"theta_rank\"] = ss.rankdata(plotdata[\"theta\"].tolist())\n",
    "#     plotdata.sort_values(by=[\"theta_rank\"], inplace = True)\n",
    "#     plotdata.drop(columns=[\"theta_rank\"], inplace=True)\n",
    "\n",
    "#     sns.set(font_scale=0.2)\n",
    "#     sns.set(rc={'figure.figsize':(14,12)})\n",
    "\n",
    "#     ax = sns.heatmap(plotdata.T, xticklabels=False, yticklabels=1)\n",
    "#     plt.show()"
   ]
  },
  {
   "cell_type": "code",
   "execution_count": null,
   "id": "77822cb5-1c71-40ee-90ac-b8fcaaeaa889",
   "metadata": {},
   "outputs": [],
   "source": [
    "# gene_heatmap(adata, theta, cell_cycle_genes)"
   ]
  },
  {
   "cell_type": "code",
   "execution_count": null,
   "id": "02c4a39e-1e65-4f29-869f-d2e75f9b4cee",
   "metadata": {},
   "outputs": [],
   "source": []
  }
 ],
 "metadata": {
  "kernelspec": {
   "display_name": "Python 3 (ipykernel)",
   "language": "python",
   "name": "python3"
  },
  "language_info": {
   "codemirror_mode": {
    "name": "ipython",
    "version": 3
   },
   "file_extension": ".py",
   "mimetype": "text/x-python",
   "name": "python",
   "nbconvert_exporter": "python",
   "pygments_lexer": "ipython3",
   "version": "3.7.8"
  }
 },
 "nbformat": 4,
 "nbformat_minor": 5
}
